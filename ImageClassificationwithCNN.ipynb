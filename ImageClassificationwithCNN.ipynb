{
  "nbformat": 4,
  "nbformat_minor": 0,
  "metadata": {
    "colab": {
      "provenance": []
    },
    "kernelspec": {
      "name": "python3",
      "display_name": "Python 3"
    },
    "language_info": {
      "name": "python"
    }
  },
  "cells": [
    {
      "cell_type": "markdown",
      "source": [
        "The code of this python file is taken from:\n",
        "\n",
        "https://pytorch.org/tutorials/beginner/blitz/cifar10_tutorial.html\n"
      ],
      "metadata": {
        "id": "74Y-kpRc8WW2"
      }
    },
    {
      "cell_type": "code",
      "source": [
        "# import libraries\n",
        "\n",
        "import torch\n",
        "import torchvision\n",
        "import torchvision.transforms as transforms\n",
        "\n",
        "import matplotlib.pyplot as plt\n",
        "import numpy as np\n"
      ],
      "metadata": {
        "id": "F8rrsMHHnXyl"
      },
      "execution_count": 4,
      "outputs": []
    },
    {
      "cell_type": "markdown",
      "source": [
        "### Loading CIFAR 10 dataset\n",
        "\n",
        "The torchvision datasets loads images in PIL imgae objects format. These images in DL models are often represented using pixel values in the range [0,1]. This common range ensures that all the input values are on a common scale.\n",
        "\n",
        "The transfor.Compose() function uses parameters passed in an array to perform two operations on PIL image objects\n",
        "\n",
        "* Prepocessing:\n",
        "1. transforms.ToTensor() converts a PIL image or Numpy array into Pytorch tensor.\n",
        "\n",
        "2. transforms. Normalize() takes two inputs contatining mean and standard deviation values for each color in the color channel.\n",
        "\n",
        "* Data Augmentation \n",
        "The common practice in ML is to normalize the pixel values from [0,1] to the range [-1,1] which center the data around 0. This ensures uniform Gradient updates, avoiding skewness in Gradient updates, standardized inputs and imporved learning effiency resulting in overall stable and efficient training process.\n"
      ],
      "metadata": {
        "id": "x48gepfopSb4"
      }
    },
    {
      "cell_type": "code",
      "source": [
        "transform = transforms.Compose([transforms.ToTensor(), transforms.Normalize((0.5,0.5,0.5), (0.5,0.5,0.5))\n transforms.RandomHorizontalFlip(), transforms.RandomRotation(10)])\n",
        "\n",
        "batch_size = 4\n",
        "\n",
        "trainset = torchvision.datasets.CIFAR10(root='./data', train=True, download=True, transform=transform)\n",
        "\n",
        "train_loader = torch.utils.data.DataLoader(trainset, batch_size=batch_size, shuffle=True, num_workers=2)\n",
        "\n",
        "testset = torchvision.datasets.CIFAR10(root='./data', train=False, download=True, transform=transform)\n",
        "\n",
        "test_loader = torch.utils.data.DataLoader(testset, batch_size=batch_size, shuffle=True, num_workers=2)\n",
        "\n",
        "classes = ('plane', 'car', 'bird', 'cat', 'deer', 'dog', 'frog', 'horse', 'ship', 'truck')\n",
        ""
      ],
      "metadata": {
        "colab": {
          "base_uri": "https://localhost:8080/"
        },
        "id": "u8aUmHZQoCnb",
        "outputId": "2a0b874f-c583-46c8-e563-b6478539f9ed"
      },
      "execution_count": 3,
      "outputs": [
        {
          "output_type": "stream",
          "name": "stdout",
          "text": [
            "Downloading https://www.cs.toronto.edu/~kriz/cifar-10-python.tar.gz to ./data/cifar-10-python.tar.gz\n"
          ]
        },
        {
          "output_type": "stream",
          "name": "stderr",
          "text": [
            "100%|██████████| 170498071/170498071 [00:02<00:00, 70177157.22it/s]\n"
          ]
        },
        {
          "output_type": "stream",
          "name": "stdout",
          "text": [
            "Extracting ./data/cifar-10-python.tar.gz to ./data\n",
            "Files already downloaded and verified\n"
          ]
        }
      ]
    },
    {
      "cell_type": "code",
      "source": [
        "# functions to show an image\n",
        "\n",
        "def imshow(img):\n",
        "    img = img / 2 + 0.5     # unnormalize\n",
        "    npimg = img.numpy()\n",
        "    plt.imshow(np.transpose(npimg, (1, 2, 0)))\n",
        "    plt.show()\n",
        "\n",
        "\n",
        "# get some random training images\n",
        "dataiter = iter(train_loader)\n",
        "images, labels = next(dataiter)\n",
        "\n",
        "# show images\n",
        "imshow(torchvision.utils.make_grid(images))\n",
        "# print labels\n",
        "print(' '.join(f'{classes[labels[j]]:5s}' for j in range(batch_size)))"
      ],
      "metadata": {
        "colab": {
          "base_uri": "https://localhost:8080/",
          "height": 211
        },
        "id": "msrBlWBxuPtm",
        "outputId": "71bb9434-01ed-44ae-d779-6ad8af9de282"
      },
      "execution_count": 6,
      "outputs": [
        {
          "output_type": "display_data",
          "data": {
            "text/plain": [
              "<Figure size 640x480 with 1 Axes>"
            ],
            "image/png": "[encoded data removed]"
          },
          "metadata": {}
        },
        {
          "output_type": "stream",
          "name": "stdout",
          "text": [
            "car   truck ship  car  \n"
          ]
        }
      ]
    },
    {
      "cell_type": "markdown",
      "source": [
        "### Define a CNN"
      ],
      "metadata": {
        "id": "5qEwMlTIupTT"
      }
    },
    {
      "cell_type": "code",
      "source": [
        "import torch.nn as nn\n",
        "import torch.nn.functional as F"
      ],
      "metadata": {
        "id": "HhKXtnySuzBy"
      },
      "execution_count": 7,
      "outputs": []
    },
    {
      "cell_type": "code",
      "source": [
        "class Net(nn.Module):\n",
        "    def __init__(self):\n",
        "        super().__init__()\n",
        "        self.conv1 = nn.Conv2d(3, 6, 5) # first convolution layer takes first input for three color channels, produces 6 output channels and uses a kernel of size 5*5\n",
        "        self.pool = nn.MaxPool2d(2, 2) # This step defines a max pooling layer with a window of 2*2 and a stride of 2.\n",
        "        self.conv2 = nn.Conv2d(6, 16, 5) # Second convolution layer, takes six outputs from conv1 layer and produces 16 output channels with a kernel of size 5*5\n",
        "        self.fc1 = nn.Linear(16 * 5 * 5, 120) # First fully connected (linear) layer; flattens output of last convolutional layer into a vectore and connects it to a 120 output nodes.\n",
        "        self.fc2 = nn.Linear(120, 84) # Second fully-connected layer; connects 120-dimension output from last fc1 layer to 84 nodes.\n",
        "        self.fc3 = nn.Linear(84, 10) # Last fully-connected layer which gives output from 10 nodes representing the 10 classes of this classification task.\n",
        "\n",
        "    # Method to define the forward pass of input in the CNN\n",
        "    def forward(self, x):\n",
        "        x = self.pool(F.relu(self.conv1(x))) # Apply the conv1 layer to the input followed by a ReLU activation function and then max pooling.\n",
        "        x = self.pool(F.relu(self.conv2(x))) # Apply conv2 layer same a previous step.\n",
        "        x = torch.flatten(x, 1) # flatten all dimensions into a 1D vector except batch\n",
        "        x = F.relu(self.fc1(x)) # Pass flattened vector to the fully connected layer followed by the ReLU function.\n",
        "        x = F.relu(self.fc2(x)) # Pass the output from last fc1 layer to fc2 layer followed by another ReLU function.\n",
        "        x = self.fc3(x) #The final layer is lastly another fc3 layer\n",
        "        return x\n",
        "\n",
        "\n",
        "net = Net() # Create an instance of Net class."
      ],
      "metadata": {
        "id": "XK7KiqYnu0Gb"
      },
      "execution_count": 9,
      "outputs": []
    },
    {
      "cell_type": "markdown",
      "source": [
        "### Define a Loss function and Optimizer"
      ],
      "metadata": {
        "id": "qxGvvsP_y9FH"
      }
    },
    {
      "cell_type": "code",
      "source": [
        "import torch.optim as optim\n",
        "\n",
        "criterion = nn.CrossEntropyLoss() # Create instance of CrossEntropyLoss class from pytorch's neural network module\n",
        "\n",
        " # Stochastic Gradient Descent. In this step all trainable parameters of the net object will be passed to the optimizer,\n",
        " # These parameters like weights and biases will be adjusted by the optimizer to adjust the minimum loss during the training.\n",
        "optimizer = optim.SGD(net.parameters(), lr=0.001, momentum=0.9)"
      ],
      "metadata": {
        "id": "H8zPgDxWzF7E"
      },
      "execution_count": 11,
      "outputs": []
    },
    {
      "cell_type": "markdown",
      "source": [
        "### Train the Network"
      ],
      "metadata": {
        "id": "NDFP0GBu0tqe"
      }
    },
    {
      "cell_type": "code",
      "source": [
        "for epoch in range(2):  # loop over the dataset multiple times\n",
        "\n",
        "    running_loss = 0.0\n",
        "    for i, data in enumerate(train_loader, 0):\n",
        "        # get the inputs; data is a list of [inputs, labels]\n",
        "        inputs, labels = data\n",
        "\n",
        "        # zero the parameter gradients\n",
        "        optimizer.zero_grad()\n",
        "\n",
        "        # forward + backward + optimize\n",
        "        outputs = net(inputs)\n",
        "        loss = criterion(outputs, labels)\n",
        "        loss.backward()\n",
        "        optimizer.step()\n",
        "\n",
        "        # print statistics\n",
        "        running_loss += loss.item()\n",
        "        if i % 2000 == 1999:    # print every 2000 mini-batches\n",
        "            print(f'[{epoch + 1}, {i + 1:5d}] loss: {running_loss / 2000:.3f}')\n",
        "            running_loss = 0.0\n",
        "\n",
        "print('Finished Training')"
      ],
      "metadata": {
        "colab": {
          "base_uri": "https://localhost:8080/"
        },
        "id": "JI7vqSKx0yPs",
        "outputId": "a9d13202-1a8d-4123-c6c5-d7bd033fb4f9"
      },
      "execution_count": 12,
      "outputs": [
        {
          "output_type": "stream",
          "name": "stdout",
          "text": [
            "[1,  2000] loss: 2.179\n",
            "[1,  4000] loss: 1.802\n",
            "[1,  6000] loss: 1.650\n",
            "[1,  8000] loss: 1.536\n",
            "[1, 10000] loss: 1.538\n",
            "[1, 12000] loss: 1.463\n",
            "[2,  2000] loss: 1.411\n",
            "[2,  4000] loss: 1.366\n",
            "[2,  6000] loss: 1.362\n",
            "[2,  8000] loss: 1.311\n",
            "[2, 10000] loss: 1.307\n",
            "[2, 12000] loss: 1.290\n",
            "Finished Training\n"
          ]
        }
      ]
    },
    {
      "cell_type": "markdown",
      "source": [
        "### Test model on test data"
      ],
      "metadata": {
        "id": "kOYtU6An1I6r"
      }
    },
    {
      "cell_type": "code",
      "source": [
        "dataiter = iter(test_loader)\n",
        "images, labels = next(dataiter)\n",
        "\n",
        "# print images\n",
        "imshow(torchvision.utils.make_grid(images))\n",
        "print('GroundTruth: ', ' '.join(f'{classes[labels[j]]:5s}' for j in range(4)))"
      ],
      "metadata": {
        "colab": {
          "base_uri": "https://localhost:8080/",
          "height": 211
        },
        "id": "wpiJx1mm2Prg",
        "outputId": "f9da6ecb-fbe4-4f25-91b4-1d45c24c2f72"
      },
      "execution_count": 14,
      "outputs": [
        {
          "output_type": "display_data",
          "data": {
            "text/plain": [
              "<Figure size 640x480 with 1 Axes>"
            ],
            "image/png": "[encoded data removed]"
          },
          "metadata": {}
        },
        {
          "output_type": "stream",
          "name": "stdout",
          "text": [
            "GroundTruth:  truck car   ship  ship \n"
          ]
        }
      ]
    },
    {
      "cell_type": "code",
      "source": [
        "outputs = net(images)\n",
        "\n",
        "_, predicted = torch.max(outputs, 1)\n",
        "\n",
        "print('Predicted: ', ' '.join(f'{classes[predicted[j]]:5s}'\n",
        "                              for j in range(4)))"
      ],
      "metadata": {
        "colab": {
          "base_uri": "https://localhost:8080/"
        },
        "id": "7h27kCxz2ihE",
        "outputId": "384abae7-7c2f-4bf8-bf47-78cb63e6d5f0"
      },
      "execution_count": 16,
      "outputs": [
        {
          "output_type": "stream",
          "name": "stdout",
          "text": [
            "Predicted:  truck car   ship  ship \n"
          ]
        }
      ]
    },
    {
      "cell_type": "markdown",
      "source": [
        "### Prediction of labels on complete test set"
      ],
      "metadata": {
        "id": "F9wlxxVB20DV"
      }
    },
    {
      "cell_type": "code",
      "source": [
        "correct = 0\n",
        "total = 0\n",
        "# since we're not training, we don't need to calculate the gradients for our outputs\n",
        "with torch.no_grad():\n",
        "    for data in test_loader:\n",
        "        images, labels = data\n",
        "        # calculate outputs by running images through the network\n",
        "        outputs = net(images)\n",
        "        # the class with the highest energy is what we choose as prediction\n",
        "        _, predicted = torch.max(outputs.data, 1)\n",
        "        total += labels.size(0)\n",
        "        correct += (predicted == labels).sum().item()\n",
        "\n",
        "print(f'Accuracy of the network on the 10000 test images: {100 * correct // total} %')"
      ],
      "metadata": {
        "colab": {
          "base_uri": "https://localhost:8080/"
        },
        "id": "RKZF9hLY2wRF",
        "outputId": "c53ad980-71c5-49c7-f080-d83b2c6606c2"
      },
      "execution_count": 18,
      "outputs": [
        {
          "output_type": "stream",
          "name": "stdout",
          "text": [
            "Accuracy of the network on the 10000 test images: 52 %\n"
          ]
        }
      ]
    },
    {
      "cell_type": "markdown",
      "source": [
        "### Per Class performance"
      ],
      "metadata": {
        "id": "IyX1Klq_3Ah9"
      }
    },
    {
      "cell_type": "code",
      "source": [
        "# prepare to count predictions for each class\n",
        "correct_pred = {classname: 0 for classname in classes}\n",
        "total_pred = {classname: 0 for classname in classes}\n",
        "\n",
        "with torch.no_grad():\n",
        "    for data in test_loader:\n",
        "        images, labels = data\n",
        "        outputs = net(images)\n",
        "        _, predictions = torch.max(outputs, 1)\n",
        "        # collect the correct predictions for each class\n",
        "        for label, prediction in zip(labels, predictions):\n",
        "            if label == prediction:\n",
        "                correct_pred[classes[label]] += 1\n",
        "            total_pred[classes[label]] += 1\n",
        "\n",
        "\n",
        "# print accuracy for each class\n",
        "for classname, correct_count in correct_pred.items():\n",
        "    accuracy = 100 * float(correct_count) / total_pred[classname]\n",
        "    print(f'Accuracy for class: {classname:5s} is {accuracy:.1f} %')"
      ],
      "metadata": {
        "colab": {
          "base_uri": "https://localhost:8080/"
        },
        "id": "T52D2UTa3EVs",
        "outputId": "e9d6e6b5-793a-4d86-a96e-d51b32127c0e"
      },
      "execution_count": 19,
      "outputs": [
        {
          "output_type": "stream",
          "name": "stdout",
          "text": [
            "Accuracy for class: plane is 71.3 %\n",
            "Accuracy for class: car   is 41.8 %\n",
            "Accuracy for class: bird  is 52.6 %\n",
            "Accuracy for class: cat   is 50.2 %\n",
            "Accuracy for class: deer  is 32.8 %\n",
            "Accuracy for class: dog   is 35.0 %\n",
            "Accuracy for class: frog  is 48.4 %\n",
            "Accuracy for class: horse is 61.7 %\n",
            "Accuracy for class: ship  is 58.7 %\n",
            "Accuracy for class: truck is 73.1 %\n"
          ]
        }
      ]
    },
    {
      "cell_type": "markdown",
      "source": [
        "### Training on GPU"
      ],
      "metadata": {
        "id": "_lnDrzIh3PVa"
      }
    },
    {
      "cell_type": "code",
      "source": [
        "device = torch.device('cuda:0' if torch.cuda.is_available() else 'cpu')\n",
        "\n",
        "# Assuming that we are on a CUDA machine, this should print a CUDA device:\n",
        "\n",
        "print(device)"
      ],
      "metadata": {
        "colab": {
          "base_uri": "https://localhost:8080/"
        },
        "id": "wZn-aoys3THE",
        "outputId": "3bc532f1-706f-4081-c052-76b87032fcb8"
      },
      "execution_count": 20,
      "outputs": [
        {
          "output_type": "stream",
          "name": "stdout",
          "text": [
            "cpu\n"
          ]
        }
      ]
    },
    {
      "cell_type": "code",
      "source": [
        "net.to(device)"
      ],
      "metadata": {
        "id": "q0_JKtDM3Wwk"
      },
      "execution_count": null,
      "outputs": []
    }
  ]
}
